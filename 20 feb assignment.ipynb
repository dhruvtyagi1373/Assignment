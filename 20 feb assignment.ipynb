{
 "cells": [
  {
   "cell_type": "code",
   "execution_count": 1,
   "id": "cee7c81d-912d-4c28-b6d9-71620cd408dd",
   "metadata": {},
   "outputs": [],
   "source": [
    "#Answer 1"
   ]
  },
  {
   "cell_type": "markdown",
   "id": "e975831f-ff2c-409c-98fc-db10ec409df3",
   "metadata": {},
   "source": [
    "GET method:\n",
    "The GET method is used to retrieve or request data from a server. When a client sends a GET request, it is asking the server to return a representation of a specific resource or a collection of resources. The data is appended to the URL as query parameters. For example, a GET request to retrieve information about a user might look like this:\n",
    "\n",
    "GET /api/users?id=123\n",
    "\n",
    "Here, the query parameter \"id\" is set to \"123\" to specify the user's identifier. The server processes the request and returns the requested data in the response body. GET requests are considered idempotent, meaning they can be repeated without changing the server state.\n",
    "\n",
    "POST method:\n",
    "The POST method is used to submit or send data to the server to create or update a resource. Unlike the GET method, the data sent through a POST request is included in the body of the HTTP request, rather than being appended to the URL. This allows for sending larger amounts of data and keeping it hidden from the URL. For example, a POST request to create a new user might look like this:\n",
    "\n",
    "POST /api/users\n",
    "Content-Type: application/json\n",
    "\n",
    "{\n",
    "  \"name\": \"John Doe\",\n",
    "  \"email\": \"john@example.com\"\n",
    "}\n",
    "\n",
    "The data, in this case, is sent as a JSON object in the request body. The server receives the data, processes it, and returns an appropriate response. POST requests are not idempotent because multiple identical requests may result in different outcomes or create multiple resources."
   ]
  },
  {
   "cell_type": "code",
   "execution_count": 2,
   "id": "9f9df307-419b-443b-814b-a94449740980",
   "metadata": {},
   "outputs": [],
   "source": [
    "#Answer 2"
   ]
  },
  {
   "cell_type": "markdown",
   "id": "ed085960-81b7-4785-883f-d2aae63a9ed3",
   "metadata": {},
   "source": [
    "In Flask, the \"request\" object is used to access the incoming HTTP request data sent by a client (such as a web browser) to the server. It allows you to retrieve information and data from the request, such as form data, query parameters, cookies, headers, and more. The request object provides a convenient interface to work with the incoming data and extract the necessary information to process the request and generate an appropriate response."
   ]
  },
  {
   "cell_type": "code",
   "execution_count": 3,
   "id": "bbd08984-d549-41d8-a914-45ce24ad7153",
   "metadata": {},
   "outputs": [],
   "source": [
    "#Answer 3"
   ]
  },
  {
   "cell_type": "markdown",
   "id": "34d3d344-0e64-4f20-8c0a-0a64d2b6a055",
   "metadata": {},
   "source": [
    "The redirect() function in Flask is used to redirect the user's browser to a different URL. It is commonly used in web applications to redirect users after performing certain actions or to guide them to different pages based on specific conditions."
   ]
  },
  {
   "cell_type": "code",
   "execution_count": 4,
   "id": "c18effcb-04f0-44b8-8a14-f42aa60600c0",
   "metadata": {},
   "outputs": [],
   "source": [
    "#Answer 4"
   ]
  },
  {
   "cell_type": "markdown",
   "id": "7d60acad-7bf0-400e-a54f-7933c02cbbb8",
   "metadata": {},
   "source": [
    "In Flask, templates are files that contain the structure and presentation logic of web pages. They are typically written in HTML or a template language like Jinja2, which is the default template engine used in Flask. Templates provide a way to separate the presentation layer from the application logic, allowing for more maintainable and modular web applications.\n",
    "\n",
    "The render_template() function in Flask is used to render and display templates in response to a request. It takes the name of the template file as an argument and returns the rendered HTML content to be sent as the response to the client's browser."
   ]
  },
  {
   "cell_type": "code",
   "execution_count": 5,
   "id": "818c1a63-005e-4aa5-a365-57667bcc5a7b",
   "metadata": {},
   "outputs": [],
   "source": [
    "#Answer 5"
   ]
  },
  {
   "cell_type": "code",
   "execution_count": 6,
   "id": "2bb8be68-2ae7-4666-b5ed-970ce39810bc",
   "metadata": {},
   "outputs": [
    {
     "name": "stdout",
     "output_type": "stream",
     "text": [
      " * Serving Flask app '__main__'\n",
      " * Debug mode: on\n"
     ]
    },
    {
     "name": "stderr",
     "output_type": "stream",
     "text": [
      "WARNING: This is a development server. Do not use it in a production deployment. Use a production WSGI server instead.\n",
      " * Running on http://127.0.0.1:5000\n",
      "Press CTRL+C to quit\n",
      " * Restarting with stat\n",
      "Traceback (most recent call last):\n",
      "  File \"/opt/conda/lib/python3.10/runpy.py\", line 196, in _run_module_as_main\n",
      "    return _run_code(code, main_globals, None,\n",
      "  File \"/opt/conda/lib/python3.10/runpy.py\", line 86, in _run_code\n",
      "    exec(code, run_globals)\n",
      "  File \"/opt/conda/lib/python3.10/site-packages/ipykernel_launcher.py\", line 17, in <module>\n",
      "    app.launch_new_instance()\n",
      "  File \"/opt/conda/lib/python3.10/site-packages/traitlets/config/application.py\", line 991, in launch_instance\n",
      "    app.initialize(argv)\n",
      "  File \"/opt/conda/lib/python3.10/site-packages/traitlets/config/application.py\", line 113, in inner\n",
      "    return method(app, *args, **kwargs)\n",
      "  File \"/opt/conda/lib/python3.10/site-packages/ipykernel/kernelapp.py\", line 665, in initialize\n",
      "    self.init_sockets()\n",
      "  File \"/opt/conda/lib/python3.10/site-packages/ipykernel/kernelapp.py\", line 309, in init_sockets\n",
      "    self.shell_port = self._bind_socket(self.shell_socket, self.shell_port)\n",
      "  File \"/opt/conda/lib/python3.10/site-packages/ipykernel/kernelapp.py\", line 246, in _bind_socket\n",
      "    return self._try_bind_socket(s, port)\n",
      "  File \"/opt/conda/lib/python3.10/site-packages/ipykernel/kernelapp.py\", line 222, in _try_bind_socket\n",
      "    s.bind(\"tcp://%s:%i\" % (self.ip, port))\n",
      "  File \"/opt/conda/lib/python3.10/site-packages/zmq/sugar/socket.py\", line 232, in bind\n",
      "    super().bind(addr)\n",
      "  File \"zmq/backend/cython/socket.pyx\", line 568, in zmq.backend.cython.socket.Socket.bind\n",
      "  File \"zmq/backend/cython/checkrc.pxd\", line 28, in zmq.backend.cython.checkrc._check_rc\n",
      "zmq.error.ZMQError: Address already in use\n"
     ]
    },
    {
     "ename": "SystemExit",
     "evalue": "1",
     "output_type": "error",
     "traceback": [
      "An exception has occurred, use %tb to see the full traceback.\n",
      "\u001b[0;31mSystemExit\u001b[0m\u001b[0;31m:\u001b[0m 1\n"
     ]
    },
    {
     "name": "stderr",
     "output_type": "stream",
     "text": [
      "/opt/conda/lib/python3.10/site-packages/IPython/core/interactiveshell.py:3441: UserWarning: To exit: use 'exit', 'quit', or Ctrl-D.\n",
      "  warn(\"To exit: use 'exit', 'quit', or Ctrl-D.\", stacklevel=1)\n"
     ]
    }
   ],
   "source": [
    "from flask import Flask, jsonify, request\n",
    "\n",
    "app = Flask(__name__)\n",
    "books = [\n",
    "    {\"id\": 1, \"title\": \"Book 1\", \"author\": \"Author 1\"},\n",
    "    {\"id\": 2, \"title\": \"Book 2\", \"author\": \"Author 2\"}\n",
    "]\n",
    "@app.route('/api/books', methods=['GET'])\n",
    "def get_books():\n",
    "    return jsonify(books)\n",
    "@app.route('/api/books', methods=['POST'])\n",
    "def add_book():\n",
    "    new_book = {\n",
    "        'id': len(books) + 1,\n",
    "        'title': request.json['title'],\n",
    "        'author': request.json['author']\n",
    "    }\n",
    "    books.append(new_book)\n",
    "    return jsonify(new_book), 201\n",
    "\n",
    "if __name__ == '__main__':\n",
    "    app.run(debug=True)\n"
   ]
  },
  {
   "cell_type": "code",
   "execution_count": null,
   "id": "c50c6638-0491-4754-bea0-fad7a581cdc9",
   "metadata": {},
   "outputs": [],
   "source": []
  }
 ],
 "metadata": {
  "kernelspec": {
   "display_name": "Python 3 (ipykernel)",
   "language": "python",
   "name": "python3"
  },
  "language_info": {
   "codemirror_mode": {
    "name": "ipython",
    "version": 3
   },
   "file_extension": ".py",
   "mimetype": "text/x-python",
   "name": "python",
   "nbconvert_exporter": "python",
   "pygments_lexer": "ipython3",
   "version": "3.10.8"
  }
 },
 "nbformat": 4,
 "nbformat_minor": 5
}
