{
 "cells": [
  {
   "cell_type": "markdown",
   "id": "cd3a8978-57a0-47ea-80e4-d9ab75690607",
   "metadata": {},
   "source": [
    "29th Jan Assignment"
   ]
  },
  {
   "cell_type": "code",
   "execution_count": 1,
   "id": "1dd27265-81bb-43a3-8639-965eb745e4d0",
   "metadata": {},
   "outputs": [],
   "source": [
    "#Answer 1 "
   ]
  },
  {
   "cell_type": "markdown",
   "id": "406992d9-68e4-4c6a-b6df-6769a2b4ffa3",
   "metadata": {},
   "source": [
    "Guido Van Rossum developed the python programming language.\n"
   ]
  },
  {
   "cell_type": "code",
   "execution_count": 2,
   "id": "159879c6-a4cd-4069-b8ff-b55df6181c5e",
   "metadata": {},
   "outputs": [],
   "source": [
    "#Answer 2"
   ]
  },
  {
   "cell_type": "markdown",
   "id": "97303a44-3e8c-4b6c-a68c-d0f1c159a7f1",
   "metadata": {},
   "source": [
    "Python supports object-oriented, functional and structured programming."
   ]
  },
  {
   "cell_type": "code",
   "execution_count": 3,
   "id": "32acb63f-d8c4-4a15-b135-748a2b548fcc",
   "metadata": {},
   "outputs": [],
   "source": [
    "#Answer 3"
   ]
  },
  {
   "cell_type": "markdown",
   "id": "a152c273-e131-447d-bdc4-459487579a2f",
   "metadata": {},
   "source": [
    "Python is case sensitive when it comes to identifiers."
   ]
  },
  {
   "cell_type": "code",
   "execution_count": 4,
   "id": "02aee6f2-74e5-47af-8a45-e7e5fb929683",
   "metadata": {},
   "outputs": [],
   "source": [
    "#Answer 4"
   ]
  },
  {
   "cell_type": "markdown",
   "id": "ba2843b7-732d-43ce-bc5d-0884fd0210f0",
   "metadata": {},
   "source": [
    "Extension of python are .py, .pyi, .pyw"
   ]
  },
  {
   "cell_type": "code",
   "execution_count": 5,
   "id": "d380d319-0e07-45a4-b245-53894ef39fea",
   "metadata": {},
   "outputs": [],
   "source": [
    "#Answer 5"
   ]
  },
  {
   "cell_type": "markdown",
   "id": "978125ee-4285-4cf8-a5dc-45f5766fcb9e",
   "metadata": {},
   "source": [
    "Python code is both compiled and interpreted, when we run a code, it is first compiled and then interpreted line by line."
   ]
  },
  {
   "cell_type": "code",
   "execution_count": 6,
   "id": "f7f7473f-7e3a-4d70-94a1-e4cb49ba410c",
   "metadata": {},
   "outputs": [],
   "source": [
    "#Answer 6"
   ]
  },
  {
   "cell_type": "markdown",
   "id": "da3bb62d-0ec3-45c3-aa9e-de0e39c78ec2",
   "metadata": {},
   "source": [
    "A module, a function body, a class."
   ]
  },
  {
   "cell_type": "code",
   "execution_count": 7,
   "id": "ef603e13-68e3-426a-93c3-450462f7740f",
   "metadata": {},
   "outputs": [],
   "source": [
    "#Answer 7"
   ]
  },
  {
   "cell_type": "markdown",
   "id": "5bfa29df-68b8-4cdf-99a9-0aed31e1ef40",
   "metadata": {},
   "source": [
    "'#' is used for single-line comments."
   ]
  },
  {
   "cell_type": "code",
   "execution_count": 8,
   "id": "68778ad8-577a-44d4-8592-7011b17ed255",
   "metadata": {},
   "outputs": [],
   "source": [
    "#Answer 8"
   ]
  },
  {
   "cell_type": "markdown",
   "id": "4597ccdb-cd86-4f1a-b1e3-5e6f6268afb3",
   "metadata": {},
   "source": [
    "python_version() "
   ]
  },
  {
   "cell_type": "code",
   "execution_count": 10,
   "id": "3a739fa7-66ec-4537-9759-ec4aa08b50ef",
   "metadata": {},
   "outputs": [],
   "source": [
    "#Answer 9"
   ]
  },
  {
   "cell_type": "markdown",
   "id": "32fb021e-f1e1-4c97-89d9-2b2d8d8b173e",
   "metadata": {},
   "source": [
    "It uses a construct called \"lambda\"."
   ]
  },
  {
   "cell_type": "code",
   "execution_count": 11,
   "id": "4ebbe4e1-b765-4c90-9f8e-74360b948849",
   "metadata": {},
   "outputs": [],
   "source": [
    "#Answer 10"
   ]
  },
  {
   "cell_type": "markdown",
   "id": "aab23539-8a03-4315-a1fe-0ea2b7124823",
   "metadata": {},
   "source": [
    "'pip' is used to install python packages and its dependencies."
   ]
  },
  {
   "cell_type": "code",
   "execution_count": 12,
   "id": "c9a12055-ea42-4b54-8f9d-fd35850e2e3d",
   "metadata": {},
   "outputs": [],
   "source": [
    "#Answer 11"
   ]
  },
  {
   "cell_type": "markdown",
   "id": "53473d39-baff-4f4e-967e-5f7e684401d2",
   "metadata": {},
   "source": [
    "Some built in functions are:\n",
    "1. sum()\n",
    "2. len()\n",
    "3. print()\n",
    "4. max()\n",
    "5. round()"
   ]
  },
  {
   "cell_type": "code",
   "execution_count": 13,
   "id": "c8d6f582-ecfe-4498-a8fb-4fde1a0c179b",
   "metadata": {},
   "outputs": [],
   "source": [
    "#Answer 12"
   ]
  },
  {
   "cell_type": "markdown",
   "id": "2f9a9b47-ae99-422c-9769-2fc2eacbf6a7",
   "metadata": {},
   "source": [
    "Identifiers can be of any length but it is recommended to use maximum length of 79 characters for better readability of the code."
   ]
  },
  {
   "cell_type": "code",
   "execution_count": 14,
   "id": "4dfec85c-9556-4af4-94ca-f16e6ab48cc6",
   "metadata": {},
   "outputs": [],
   "source": [
    "#Answer 13"
   ]
  },
  {
   "cell_type": "markdown",
   "id": "2da051ac-4516-4216-bfe0-1d791b602d4e",
   "metadata": {},
   "source": [
    "Python is a high-level language which makes it easy to understand, it is used in various different tech fields like data science and it automates tasks at lower level."
   ]
  },
  {
   "cell_type": "code",
   "execution_count": 15,
   "id": "ee89ba0b-259f-4d8d-b8ae-cfc8a4f16914",
   "metadata": {},
   "outputs": [],
   "source": [
    "#Answer 14"
   ]
  },
  {
   "cell_type": "markdown",
   "id": "cc2bbcc5-e06e-4621-8dc7-d8c6290711ab",
   "metadata": {},
   "source": [
    "Python has a private heap space for all its objects and data structures."
   ]
  },
  {
   "cell_type": "code",
   "execution_count": 16,
   "id": "b87cbf8f-5609-4725-b725-9371a5802d89",
   "metadata": {},
   "outputs": [],
   "source": [
    "#Answer 15"
   ]
  },
  {
   "cell_type": "markdown",
   "id": "e1958a0f-bca2-4642-9e95-dca5b1d69520",
   "metadata": {},
   "source": [
    "1. Right-clicking the PC and going to Properties.\n",
    "2. Clicking on the Advanced system settings in the menu on the left.\n",
    "3. Clicking on the Environment Variables button on the bottom right.\n",
    "4. In the System variables section, selecting the Path variable and clicking on Edit."
   ]
  },
  {
   "cell_type": "code",
   "execution_count": 17,
   "id": "5835db05-6025-4131-a46d-e7e531c33697",
   "metadata": {},
   "outputs": [],
   "source": [
    "#Answer 16"
   ]
  },
  {
   "cell_type": "markdown",
   "id": "c2688029-4794-41f7-b958-215c8216c9a0",
   "metadata": {},
   "source": [
    "Yes, indentation is required in python for it to understand what block of code holds which statements."
   ]
  }
 ],
 "metadata": {
  "kernelspec": {
   "display_name": "Python 3 (ipykernel)",
   "language": "python",
   "name": "python3"
  },
  "language_info": {
   "codemirror_mode": {
    "name": "ipython",
    "version": 3
   },
   "file_extension": ".py",
   "mimetype": "text/x-python",
   "name": "python",
   "nbconvert_exporter": "python",
   "pygments_lexer": "ipython3",
   "version": "3.10.8"
  }
 },
 "nbformat": 4,
 "nbformat_minor": 5
}
