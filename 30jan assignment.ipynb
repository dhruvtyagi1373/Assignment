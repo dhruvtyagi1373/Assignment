{
 "cells": [
  {
   "cell_type": "code",
   "execution_count": 1,
   "id": "0fd5d321-e06f-4d6b-937d-8a64a550bdf9",
   "metadata": {},
   "outputs": [],
   "source": [
    "#Answer 1"
   ]
  },
  {
   "cell_type": "code",
   "execution_count": 2,
   "id": "bfb75ca6-e303-444b-86fa-ef0afdb8549a",
   "metadata": {},
   "outputs": [
    {
     "name": "stdin",
     "output_type": "stream",
     "text": [
      "Enter marks obtained 60\n"
     ]
    },
    {
     "name": "stdout",
     "output_type": "stream",
     "text": [
      "C\n"
     ]
    }
   ],
   "source": [
    "marks=int(input('Enter marks obtained'))\n",
    "if marks>90:\n",
    "    print('A')\n",
    "elif marks >80 and marks<=90:\n",
    "    print('B')\n",
    "elif marks >=60 and marks<=80:\n",
    "    print('C')\n",
    "else:\n",
    "    print('D')"
   ]
  },
  {
   "cell_type": "code",
   "execution_count": 3,
   "id": "2a1253ea-e6ce-4b7c-9f3d-25250e920812",
   "metadata": {},
   "outputs": [],
   "source": [
    "#Answer 2"
   ]
  },
  {
   "cell_type": "code",
   "execution_count": 4,
   "id": "801e6c76-a6a4-4b5b-a969-67f6d50829ec",
   "metadata": {},
   "outputs": [
    {
     "name": "stdin",
     "output_type": "stream",
     "text": [
      "Enter cost price of the bike 53000\n"
     ]
    },
    {
     "name": "stdout",
     "output_type": "stream",
     "text": [
      "Road tax to be paid is 10%\n"
     ]
    }
   ],
   "source": [
    "cp_bike=int(input(\"Enter cost price of the bike\"))\n",
    "if cp_bike>100000:\n",
    "    print(\"Road tax to be paid is 15%\")\n",
    "elif cp_bike>50000 and cp_bike<=100000:\n",
    "    print(\"Road tax to be paid is 10%\")\n",
    "elif cp_bike<=50000:\n",
    "    print(\"Road tax to be paid is 5%\")\n"
   ]
  },
  {
   "cell_type": "code",
   "execution_count": 5,
   "id": "b3659767-66a5-4158-9513-6b191b60ab11",
   "metadata": {},
   "outputs": [],
   "source": [
    "#Answer 3"
   ]
  },
  {
   "cell_type": "code",
   "execution_count": 6,
   "id": "eeb88aa3-e2c8-441d-b91e-1090bfafffc2",
   "metadata": {},
   "outputs": [
    {
     "name": "stdin",
     "output_type": "stream",
     "text": [
      "Enter city amongst Delhi, Agra and Jaipur to see their monuments agra\n"
     ]
    },
    {
     "name": "stdout",
     "output_type": "stream",
     "text": [
      "Red Fort\n"
     ]
    }
   ],
   "source": [
    "city=input(\"Enter city amongst Delhi, Agra and Jaipur to see their monuments\")\n",
    "if city=='Delhi' or 'delhi':\n",
    "    print(\"Red Fort\")\n",
    "elif city=='Agra' or 'agra':\n",
    "    print(\"Taj mahal\")\n",
    "elif city=='Jaipur' or 'jaipur':\n",
    "    print(\"Jal mahal\")"
   ]
  },
  {
   "cell_type": "code",
   "execution_count": 7,
   "id": "a4f9f4f7-ae43-4be4-81a1-82a102fa6e32",
   "metadata": {},
   "outputs": [],
   "source": [
    "#Answer 4"
   ]
  },
  {
   "cell_type": "code",
   "execution_count": 13,
   "id": "327bb795-5a08-41b3-b56f-9ba22318e0f3",
   "metadata": {},
   "outputs": [
    {
     "name": "stdin",
     "output_type": "stream",
     "text": [
      "Enter the number 12\n"
     ]
    },
    {
     "name": "stdout",
     "output_type": "stream",
     "text": [
      "1\n"
     ]
    }
   ],
   "source": [
    "count=0\n",
    "number=int(input('Enter the number'))\n",
    "while number>=10:\n",
    "    a=number/3\n",
    "    number=a\n",
    "    count+=1\n",
    "print(count)\n",
    "    \n"
   ]
  },
  {
   "cell_type": "code",
   "execution_count": null,
   "id": "d9066df7-a68f-4f0e-8aaa-599a83117a74",
   "metadata": {},
   "outputs": [],
   "source": [
    "#Answer 5"
   ]
  },
  {
   "cell_type": "markdown",
   "id": "cbeb6981-d338-4fee-9969-cdec08b226d4",
   "metadata": {},
   "source": [
    "We use while loop for iteration. while loop executes when we want a condition to be true and when the condition is true, code written in while block is executed..For example,we wish to print 10 numbers starting from 1 to 10 except 0."
   ]
  },
  {
   "cell_type": "code",
   "execution_count": null,
   "id": "2c4f9780-0240-464b-92dd-ce4c5c642405",
   "metadata": {},
   "outputs": [],
   "source": [
    "i=1\n",
    "while i<=10:\n",
    "    print(i)\n",
    "    i+=1"
   ]
  },
  {
   "cell_type": "code",
   "execution_count": null,
   "id": "facb8d93-9215-402c-b2b6-4e50cb9641ba",
   "metadata": {},
   "outputs": [],
   "source": [
    "#Answer 6 not done"
   ]
  },
  {
   "cell_type": "code",
   "execution_count": null,
   "id": "61301ce6-acd5-422a-a469-34a1fc6e9cda",
   "metadata": {},
   "outputs": [],
   "source": [
    "#Answer 7 ans Answer 8 are same"
   ]
  },
  {
   "cell_type": "code",
   "execution_count": null,
   "id": "438f4636-1478-4260-aff6-3497d72643f1",
   "metadata": {},
   "outputs": [],
   "source": [
    "i=10\n",
    "while i>0:\n",
    "    print(i)\n",
    "    i-=1\n",
    "    "
   ]
  },
  {
   "cell_type": "code",
   "execution_count": null,
   "id": "c33f3efe-2a48-4d62-8253-cd8c2f84f507",
   "metadata": {},
   "outputs": [],
   "source": []
  }
 ],
 "metadata": {
  "kernelspec": {
   "display_name": "Python 3 (ipykernel)",
   "language": "python",
   "name": "python3"
  },
  "language_info": {
   "codemirror_mode": {
    "name": "ipython",
    "version": 3
   },
   "file_extension": ".py",
   "mimetype": "text/x-python",
   "name": "python",
   "nbconvert_exporter": "python",
   "pygments_lexer": "ipython3",
   "version": "3.10.8"
  }
 },
 "nbformat": 4,
 "nbformat_minor": 5
}
